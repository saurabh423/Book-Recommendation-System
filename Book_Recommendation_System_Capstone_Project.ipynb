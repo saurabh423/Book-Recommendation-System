{
  "nbformat": 4,
  "nbformat_minor": 0,
  "metadata": {
    "kernelspec": {
      "display_name": "Python 3",
      "language": "python",
      "name": "python3"
    },
    "language_info": {
      "codemirror_mode": {
        "name": "ipython",
        "version": 3
      },
      "file_extension": ".py",
      "mimetype": "text/x-python",
      "name": "python",
      "nbconvert_exporter": "python",
      "pygments_lexer": "ipython3",
      "version": "3.6.6"
    },
    "colab": {
      "name": "Book Recommendation System - Capstone Project.ipynb",
      "provenance": [],
      "collapsed_sections": [],
      "include_colab_link": true
    }
  },
  "cells": [
    {
      "cell_type": "markdown",
      "metadata": {
        "id": "view-in-github",
        "colab_type": "text"
      },
      "source": [
        "<a href=\"https://colab.research.google.com/github/saurabh423/Book-Recommendation-System/blob/main/Book_Recommendation_System_Capstone_Project.ipynb\" target=\"_parent\"><img src=\"https://colab.research.google.com/assets/colab-badge.svg\" alt=\"Open In Colab\"/></a>"
      ]
    },
    {
      "cell_type": "markdown",
      "metadata": {
        "id": "tOGC-qoyhJeX"
      },
      "source": [
        "# <b><u> Project Title : Build a recommender engine that reviews customer ratings and recommend items and improve sales. </u></b>"
      ]
    },
    {
      "cell_type": "markdown",
      "metadata": {
        "id": "Y06xIdG26kRF"
      },
      "source": [
        "# <b><u>Problem Statement: </u></b>"
      ]
    },
    {
      "cell_type": "markdown",
      "metadata": {
        "id": "O4m4v-zp0muQ"
      },
      "source": [
        "####During the last few decades, with the rise of Youtube, Amazon, Netflix, and many other such web services, recommender systems have taken more and more place in our lives. From e-commerce (suggest to buyers articles that could interest them) to online advertisement (suggest to users the right contents, matching their preferences), recommender systems are today unavoidable in our daily online journeys.\n",
        "\n",
        "\n",
        "####In a very general way, recommender systems are algorithms aimed at suggesting relevant items to users (items being movies to watch, text to read, products to buy, or anything else depending on industries).\n",
        "####Recommender systems are really critical in some industries as they can generate a huge amount of income when they are efficient or also be a way to stand out significantly from competitors. The main objective is to create a book recommendation system for users."
      ]
    },
    {
      "cell_type": "markdown",
      "metadata": {
        "id": "UexX_ItZr3nP"
      },
      "source": [
        "## **About Recommendation Engines**\n",
        "A recommendation engine, also known as a recommender system, is software that analyzes available data to make suggestions for something that a user might be interested in.\n",
        "\n",
        "A recommendation engine can be used for recommending other products besides books; for example a recommendation engine can be used to suggest movies or t-shirts or any other product based on things like similar customers who bought similar products. On Amazon’s ecommerce website, you can see an area populated by a recommendation engine, it’s the area that you see “Customers who viewed this item also viewed” and “Customers who bought this item also bought” lists.\n",
        "\n",
        "A recommendation system is usually built using 3 techniques which are **content-based filtering, collaborative filtering, and a combination of both**.\n",
        "\n",
        "* **Content-based filtering**: \n",
        "The algorithm recommends a product that is similar to those which used as watched. In simple words, In this algorithm, we try to find finding item look alike. For example, a person likes to watch Sachin Tendulkar shots, so he may like watching Ricky Ponting shots too because the two videos have similar tags and similar categories.\n",
        "Only it looks similar between the content and does not focus more on the person who is watching this. Only it recommends the product which has the highest score based on past preferences.\n",
        "\n",
        "* **Collaborative filtering:**\n",
        "Collaborative based filtering recommender systems are based on past interactions of users and target items.  In simple words here, we try to search for the look-alike customers and offer products based on what his or her lookalike has chosen. Let us understand with an example. X and Y are two similar users and X user has watched A, B, and C movie. And Y user has watched B, C, and D movie then we will recommend A movie to Y user and D movie to X user.\n",
        "Youtube has shifted its recommendation system from content-based to Collaborative based filtering technique. If you have experienced sometimes there are also videos which not at all related to your history but then also it recommends it because the other person similar to you has watched it.\n",
        "\n",
        "* **Hybrid Filtering Method:**\n",
        "It is basically a combination of both the above methods. It is a too complex model which recommends product based on your history as well based on similar users like you.\n",
        "There are some organizations that use this method like Facebook which shows news which is important for you and for others also in your network and the same is used by Linkedin too.\n"
      ]
    },
    {
      "cell_type": "markdown",
      "metadata": {
        "id": "Puo99uYout3z"
      },
      "source": [
        "###In this project, we will use the **Collaborative based filtering** method to build a book recommender system."
      ]
    },
    {
      "cell_type": "markdown",
      "metadata": {
        "id": "74Sdq63Z617-"
      },
      "source": [
        "##**Dataset Description**\n",
        "The Book-Crossing dataset comprises 3 files which contains 1.1 million ratings of 270,000 books by 90,000 users. The ratings are on a scale from 1 to 10.\n",
        "\n",
        "* **Users**\n",
        "Contains the users. Note that user IDs (User-ID) have been anonymized and map to\n",
        "integers. Demographic data is provided (Location, Age) if available. Otherwise, these\n",
        "fields contain NULL values.\n",
        "*  **Books**\n",
        "Books are identified by their respective ISBN. Invalid ISBNs have already been removed\n",
        "from the dataset. Moreover, some content-based information is given (Book-Title,\n",
        "Book-Author, Year-Of-Publication, Publisher), obtained from Amazon Web\n",
        "Services. Note that in the case of several authors, only the first is provided. URLs linking\n",
        "to cover images are also given, appearing in three different flavors (Image-URL-S,\n",
        "Image-URL-M, Image-URL-L), i.e., small, medium, large. These URLs point to the\n",
        "Amazon website.\n",
        "*  **Ratings**\n",
        "Contains the book rating information. Ratings (Book-Rating) are either explicit,\n",
        "expressed on a scale from 1-10 (higher values denoting higher appreciation), or implicit,\n",
        "expressed by 0."
      ]
    },
    {
      "cell_type": "markdown",
      "metadata": {
        "id": "nON1vzhh3cYM"
      },
      "source": [
        "####**Importing Required Libraries**"
      ]
    },
    {
      "cell_type": "code",
      "metadata": {
        "id": "8wyTheqLQUTE"
      },
      "source": [
        "import pandas as pd\n",
        "import numpy as np\n",
        "\n",
        "import scipy\n",
        "import math\n",
        "import random\n",
        "import sklearn\n",
        "\n",
        "from sklearn.model_selection import train_test_split\n",
        "from sklearn.feature_extraction.text import TfidfVectorizer\n",
        "from sklearn.metrics.pairwise import cosine_similarity\n",
        "from scipy.sparse.linalg import svds\n",
        "import seaborn as sns\n",
        "import matplotlib.pyplot as plt"
      ],
      "execution_count": 1,
      "outputs": []
    },
    {
      "cell_type": "code",
      "metadata": {
        "colab": {
          "base_uri": "https://localhost:8080/"
        },
        "id": "PP-mtY954eLx",
        "outputId": "9eb2834f-3ff6-4483-a15b-613c161d1531"
      },
      "source": [
        "# Mounting drive\n",
        "from google.colab import drive\n",
        "drive.mount('/content/drive')"
      ],
      "execution_count": 2,
      "outputs": [
        {
          "output_type": "stream",
          "text": [
            "Mounted at /content/drive\n"
          ],
          "name": "stdout"
        }
      ]
    },
    {
      "cell_type": "markdown",
      "metadata": {
        "id": "NJ5yUx_d4JRN"
      },
      "source": [
        "###**Reading Data**"
      ]
    },
    {
      "cell_type": "code",
      "metadata": {
        "id": "GZMr8-qy4e8v",
        "colab": {
          "base_uri": "https://localhost:8080/"
        },
        "outputId": "462ea451-be62-44b8-f842-283f57f5096d"
      },
      "source": [
        "#Reading Users data\n",
        "users = pd.read_csv(\"/content/drive/MyDrive/Almabetter/Module 4: Machine Learning/Capstone Project 4: Product Recommendation Engine/dat/Users.csv\")\n",
        "#Reading Books data\n",
        "books = pd.read_csv(\"/content/drive/MyDrive/Almabetter/Module 4: Machine Learning/Capstone Project 4: Product Recommendation Engine/dat/Books.csv\")\n",
        "#Reading Ratings data\n",
        "ratings = pd.read_csv(\"/content/drive/MyDrive/Almabetter/Module 4: Machine Learning/Capstone Project 4: Product Recommendation Engine/dat/Ratings.csv\")"
      ],
      "execution_count": 66,
      "outputs": [
        {
          "output_type": "stream",
          "text": [
            "/usr/local/lib/python3.7/dist-packages/IPython/core/interactiveshell.py:2718: DtypeWarning: Columns (3) have mixed types.Specify dtype option on import or set low_memory=False.\n",
            "  interactivity=interactivity, compiler=compiler, result=result)\n"
          ],
          "name": "stderr"
        }
      ]
    },
    {
      "cell_type": "code",
      "metadata": {
        "colab": {
          "base_uri": "https://localhost:8080/"
        },
        "id": "jgBnQSlqv9Hf",
        "outputId": "c41b569c-82c5-4c3b-ad4e-5ae5e2f6fded"
      },
      "source": [
        "#checking shapes of the datasets\n",
        "print(books.shape)\n",
        "print(users.shape)\n",
        "print(ratings.shape)"
      ],
      "execution_count": 67,
      "outputs": [
        {
          "output_type": "stream",
          "text": [
            "(271360, 8)\n",
            "(278858, 3)\n",
            "(1149780, 3)\n"
          ],
          "name": "stdout"
        }
      ]
    },
    {
      "cell_type": "markdown",
      "metadata": {
        "id": "ClnQ8LML1V4i"
      },
      "source": [
        "Let's see the head of each dataframe."
      ]
    },
    {
      "cell_type": "code",
      "metadata": {
        "colab": {
          "base_uri": "https://localhost:8080/",
          "height": 200
        },
        "id": "tuiw0bep04pL",
        "outputId": "55d032f6-5e58-4631-a1b4-cd89f2815245"
      },
      "source": [
        "users.head()"
      ],
      "execution_count": 68,
      "outputs": [
        {
          "output_type": "execute_result",
          "data": {
            "text/html": [
              "<div>\n",
              "<style scoped>\n",
              "    .dataframe tbody tr th:only-of-type {\n",
              "        vertical-align: middle;\n",
              "    }\n",
              "\n",
              "    .dataframe tbody tr th {\n",
              "        vertical-align: top;\n",
              "    }\n",
              "\n",
              "    .dataframe thead th {\n",
              "        text-align: right;\n",
              "    }\n",
              "</style>\n",
              "<table border=\"1\" class=\"dataframe\">\n",
              "  <thead>\n",
              "    <tr style=\"text-align: right;\">\n",
              "      <th></th>\n",
              "      <th>User-ID</th>\n",
              "      <th>Location</th>\n",
              "      <th>Age</th>\n",
              "    </tr>\n",
              "  </thead>\n",
              "  <tbody>\n",
              "    <tr>\n",
              "      <th>0</th>\n",
              "      <td>1</td>\n",
              "      <td>nyc, new york, usa</td>\n",
              "      <td>NaN</td>\n",
              "    </tr>\n",
              "    <tr>\n",
              "      <th>1</th>\n",
              "      <td>2</td>\n",
              "      <td>stockton, california, usa</td>\n",
              "      <td>18.0</td>\n",
              "    </tr>\n",
              "    <tr>\n",
              "      <th>2</th>\n",
              "      <td>3</td>\n",
              "      <td>moscow, yukon territory, russia</td>\n",
              "      <td>NaN</td>\n",
              "    </tr>\n",
              "    <tr>\n",
              "      <th>3</th>\n",
              "      <td>4</td>\n",
              "      <td>porto, v.n.gaia, portugal</td>\n",
              "      <td>17.0</td>\n",
              "    </tr>\n",
              "    <tr>\n",
              "      <th>4</th>\n",
              "      <td>5</td>\n",
              "      <td>farnborough, hants, united kingdom</td>\n",
              "      <td>NaN</td>\n",
              "    </tr>\n",
              "  </tbody>\n",
              "</table>\n",
              "</div>"
            ],
            "text/plain": [
              "   User-ID                            Location   Age\n",
              "0  1        nyc, new york, usa                 NaN  \n",
              "1  2        stockton, california, usa           18.0\n",
              "2  3        moscow, yukon territory, russia    NaN  \n",
              "3  4        porto, v.n.gaia, portugal           17.0\n",
              "4  5        farnborough, hants, united kingdom NaN  "
            ]
          },
          "metadata": {
            "tags": []
          },
          "execution_count": 68
        }
      ]
    },
    {
      "cell_type": "code",
      "metadata": {
        "colab": {
          "base_uri": "https://localhost:8080/",
          "height": 545
        },
        "id": "8USEHcK009so",
        "outputId": "94993b73-1643-412c-e852-411455f21eb7"
      },
      "source": [
        "books.head()"
      ],
      "execution_count": 69,
      "outputs": [
        {
          "output_type": "execute_result",
          "data": {
            "text/html": [
              "<div>\n",
              "<style scoped>\n",
              "    .dataframe tbody tr th:only-of-type {\n",
              "        vertical-align: middle;\n",
              "    }\n",
              "\n",
              "    .dataframe tbody tr th {\n",
              "        vertical-align: top;\n",
              "    }\n",
              "\n",
              "    .dataframe thead th {\n",
              "        text-align: right;\n",
              "    }\n",
              "</style>\n",
              "<table border=\"1\" class=\"dataframe\">\n",
              "  <thead>\n",
              "    <tr style=\"text-align: right;\">\n",
              "      <th></th>\n",
              "      <th>ISBN</th>\n",
              "      <th>Book-Title</th>\n",
              "      <th>Book-Author</th>\n",
              "      <th>Year-Of-Publication</th>\n",
              "      <th>Publisher</th>\n",
              "      <th>Image-URL-S</th>\n",
              "      <th>Image-URL-M</th>\n",
              "      <th>Image-URL-L</th>\n",
              "    </tr>\n",
              "  </thead>\n",
              "  <tbody>\n",
              "    <tr>\n",
              "      <th>0</th>\n",
              "      <td>0195153448</td>\n",
              "      <td>Classical Mythology</td>\n",
              "      <td>Mark P. O. Morford</td>\n",
              "      <td>2002</td>\n",
              "      <td>Oxford University Press</td>\n",
              "      <td>http://images.amazon.com/images/P/0195153448.01.THUMBZZZ.jpg</td>\n",
              "      <td>http://images.amazon.com/images/P/0195153448.01.MZZZZZZZ.jpg</td>\n",
              "      <td>http://images.amazon.com/images/P/0195153448.01.LZZZZZZZ.jpg</td>\n",
              "    </tr>\n",
              "    <tr>\n",
              "      <th>1</th>\n",
              "      <td>0002005018</td>\n",
              "      <td>Clara Callan</td>\n",
              "      <td>Richard Bruce Wright</td>\n",
              "      <td>2001</td>\n",
              "      <td>HarperFlamingo Canada</td>\n",
              "      <td>http://images.amazon.com/images/P/0002005018.01.THUMBZZZ.jpg</td>\n",
              "      <td>http://images.amazon.com/images/P/0002005018.01.MZZZZZZZ.jpg</td>\n",
              "      <td>http://images.amazon.com/images/P/0002005018.01.LZZZZZZZ.jpg</td>\n",
              "    </tr>\n",
              "    <tr>\n",
              "      <th>2</th>\n",
              "      <td>0060973129</td>\n",
              "      <td>Decision in Normandy</td>\n",
              "      <td>Carlo D'Este</td>\n",
              "      <td>1991</td>\n",
              "      <td>HarperPerennial</td>\n",
              "      <td>http://images.amazon.com/images/P/0060973129.01.THUMBZZZ.jpg</td>\n",
              "      <td>http://images.amazon.com/images/P/0060973129.01.MZZZZZZZ.jpg</td>\n",
              "      <td>http://images.amazon.com/images/P/0060973129.01.LZZZZZZZ.jpg</td>\n",
              "    </tr>\n",
              "    <tr>\n",
              "      <th>3</th>\n",
              "      <td>0374157065</td>\n",
              "      <td>Flu: The Story of the Great Influenza Pandemic of 1918 and the Search for the Virus That Caused It</td>\n",
              "      <td>Gina Bari Kolata</td>\n",
              "      <td>1999</td>\n",
              "      <td>Farrar Straus Giroux</td>\n",
              "      <td>http://images.amazon.com/images/P/0374157065.01.THUMBZZZ.jpg</td>\n",
              "      <td>http://images.amazon.com/images/P/0374157065.01.MZZZZZZZ.jpg</td>\n",
              "      <td>http://images.amazon.com/images/P/0374157065.01.LZZZZZZZ.jpg</td>\n",
              "    </tr>\n",
              "    <tr>\n",
              "      <th>4</th>\n",
              "      <td>0393045218</td>\n",
              "      <td>The Mummies of Urumchi</td>\n",
              "      <td>E. J. W. Barber</td>\n",
              "      <td>1999</td>\n",
              "      <td>W. W. Norton &amp;amp; Company</td>\n",
              "      <td>http://images.amazon.com/images/P/0393045218.01.THUMBZZZ.jpg</td>\n",
              "      <td>http://images.amazon.com/images/P/0393045218.01.MZZZZZZZ.jpg</td>\n",
              "      <td>http://images.amazon.com/images/P/0393045218.01.LZZZZZZZ.jpg</td>\n",
              "    </tr>\n",
              "  </tbody>\n",
              "</table>\n",
              "</div>"
            ],
            "text/plain": [
              "         ISBN  ...                                                   Image-URL-L\n",
              "0  0195153448  ...  http://images.amazon.com/images/P/0195153448.01.LZZZZZZZ.jpg\n",
              "1  0002005018  ...  http://images.amazon.com/images/P/0002005018.01.LZZZZZZZ.jpg\n",
              "2  0060973129  ...  http://images.amazon.com/images/P/0060973129.01.LZZZZZZZ.jpg\n",
              "3  0374157065  ...  http://images.amazon.com/images/P/0374157065.01.LZZZZZZZ.jpg\n",
              "4  0393045218  ...  http://images.amazon.com/images/P/0393045218.01.LZZZZZZZ.jpg\n",
              "\n",
              "[5 rows x 8 columns]"
            ]
          },
          "metadata": {
            "tags": []
          },
          "execution_count": 69
        }
      ]
    },
    {
      "cell_type": "code",
      "metadata": {
        "colab": {
          "base_uri": "https://localhost:8080/",
          "height": 200
        },
        "id": "naRuboiYA06v",
        "outputId": "ae0e3776-df80-4fb7-cd24-a3407ea2f61d"
      },
      "source": [
        "ratings.head()"
      ],
      "execution_count": 70,
      "outputs": [
        {
          "output_type": "execute_result",
          "data": {
            "text/html": [
              "<div>\n",
              "<style scoped>\n",
              "    .dataframe tbody tr th:only-of-type {\n",
              "        vertical-align: middle;\n",
              "    }\n",
              "\n",
              "    .dataframe tbody tr th {\n",
              "        vertical-align: top;\n",
              "    }\n",
              "\n",
              "    .dataframe thead th {\n",
              "        text-align: right;\n",
              "    }\n",
              "</style>\n",
              "<table border=\"1\" class=\"dataframe\">\n",
              "  <thead>\n",
              "    <tr style=\"text-align: right;\">\n",
              "      <th></th>\n",
              "      <th>User-ID</th>\n",
              "      <th>ISBN</th>\n",
              "      <th>Book-Rating</th>\n",
              "    </tr>\n",
              "  </thead>\n",
              "  <tbody>\n",
              "    <tr>\n",
              "      <th>0</th>\n",
              "      <td>276725</td>\n",
              "      <td>034545104X</td>\n",
              "      <td>0</td>\n",
              "    </tr>\n",
              "    <tr>\n",
              "      <th>1</th>\n",
              "      <td>276726</td>\n",
              "      <td>0155061224</td>\n",
              "      <td>5</td>\n",
              "    </tr>\n",
              "    <tr>\n",
              "      <th>2</th>\n",
              "      <td>276727</td>\n",
              "      <td>0446520802</td>\n",
              "      <td>0</td>\n",
              "    </tr>\n",
              "    <tr>\n",
              "      <th>3</th>\n",
              "      <td>276729</td>\n",
              "      <td>052165615X</td>\n",
              "      <td>3</td>\n",
              "    </tr>\n",
              "    <tr>\n",
              "      <th>4</th>\n",
              "      <td>276729</td>\n",
              "      <td>0521795028</td>\n",
              "      <td>6</td>\n",
              "    </tr>\n",
              "  </tbody>\n",
              "</table>\n",
              "</div>"
            ],
            "text/plain": [
              "   User-ID        ISBN  Book-Rating\n",
              "0  276725   034545104X  0          \n",
              "1  276726   0155061224  5          \n",
              "2  276727   0446520802  0          \n",
              "3  276729   052165615X  3          \n",
              "4  276729   0521795028  6          "
            ]
          },
          "metadata": {
            "tags": []
          },
          "execution_count": 70
        }
      ]
    },
    {
      "cell_type": "markdown",
      "metadata": {
        "id": "dbswuNsHyBcE"
      },
      "source": [
        "The dataset is reliable and can consider as a large dataset. we have 271360 books data and total registered users on the website are approximately 278858 and they have given near about 11 lakh rating. hence we can say that the dataset we have is nice and reliable."
      ]
    },
    {
      "cell_type": "markdown",
      "metadata": {
        "id": "b-qX6VGDv8tb"
      },
      "source": [
        "## **Data Preprocessing and Basic EDA**"
      ]
    },
    {
      "cell_type": "markdown",
      "metadata": {
        "id": "H2_X_adCLqSj"
      },
      "source": [
        "###Exploring books dataset"
      ]
    },
    {
      "cell_type": "code",
      "metadata": {
        "colab": {
          "base_uri": "https://localhost:8080/",
          "height": 545
        },
        "id": "VnGb4IdF41LT",
        "outputId": "20a7d676-5396-4eeb-b227-179c748d215e"
      },
      "source": [
        "#Printing Top 5 rows of book data\n",
        "books.head()"
      ],
      "execution_count": 71,
      "outputs": [
        {
          "output_type": "execute_result",
          "data": {
            "text/html": [
              "<div>\n",
              "<style scoped>\n",
              "    .dataframe tbody tr th:only-of-type {\n",
              "        vertical-align: middle;\n",
              "    }\n",
              "\n",
              "    .dataframe tbody tr th {\n",
              "        vertical-align: top;\n",
              "    }\n",
              "\n",
              "    .dataframe thead th {\n",
              "        text-align: right;\n",
              "    }\n",
              "</style>\n",
              "<table border=\"1\" class=\"dataframe\">\n",
              "  <thead>\n",
              "    <tr style=\"text-align: right;\">\n",
              "      <th></th>\n",
              "      <th>ISBN</th>\n",
              "      <th>Book-Title</th>\n",
              "      <th>Book-Author</th>\n",
              "      <th>Year-Of-Publication</th>\n",
              "      <th>Publisher</th>\n",
              "      <th>Image-URL-S</th>\n",
              "      <th>Image-URL-M</th>\n",
              "      <th>Image-URL-L</th>\n",
              "    </tr>\n",
              "  </thead>\n",
              "  <tbody>\n",
              "    <tr>\n",
              "      <th>0</th>\n",
              "      <td>0195153448</td>\n",
              "      <td>Classical Mythology</td>\n",
              "      <td>Mark P. O. Morford</td>\n",
              "      <td>2002</td>\n",
              "      <td>Oxford University Press</td>\n",
              "      <td>http://images.amazon.com/images/P/0195153448.01.THUMBZZZ.jpg</td>\n",
              "      <td>http://images.amazon.com/images/P/0195153448.01.MZZZZZZZ.jpg</td>\n",
              "      <td>http://images.amazon.com/images/P/0195153448.01.LZZZZZZZ.jpg</td>\n",
              "    </tr>\n",
              "    <tr>\n",
              "      <th>1</th>\n",
              "      <td>0002005018</td>\n",
              "      <td>Clara Callan</td>\n",
              "      <td>Richard Bruce Wright</td>\n",
              "      <td>2001</td>\n",
              "      <td>HarperFlamingo Canada</td>\n",
              "      <td>http://images.amazon.com/images/P/0002005018.01.THUMBZZZ.jpg</td>\n",
              "      <td>http://images.amazon.com/images/P/0002005018.01.MZZZZZZZ.jpg</td>\n",
              "      <td>http://images.amazon.com/images/P/0002005018.01.LZZZZZZZ.jpg</td>\n",
              "    </tr>\n",
              "    <tr>\n",
              "      <th>2</th>\n",
              "      <td>0060973129</td>\n",
              "      <td>Decision in Normandy</td>\n",
              "      <td>Carlo D'Este</td>\n",
              "      <td>1991</td>\n",
              "      <td>HarperPerennial</td>\n",
              "      <td>http://images.amazon.com/images/P/0060973129.01.THUMBZZZ.jpg</td>\n",
              "      <td>http://images.amazon.com/images/P/0060973129.01.MZZZZZZZ.jpg</td>\n",
              "      <td>http://images.amazon.com/images/P/0060973129.01.LZZZZZZZ.jpg</td>\n",
              "    </tr>\n",
              "    <tr>\n",
              "      <th>3</th>\n",
              "      <td>0374157065</td>\n",
              "      <td>Flu: The Story of the Great Influenza Pandemic of 1918 and the Search for the Virus That Caused It</td>\n",
              "      <td>Gina Bari Kolata</td>\n",
              "      <td>1999</td>\n",
              "      <td>Farrar Straus Giroux</td>\n",
              "      <td>http://images.amazon.com/images/P/0374157065.01.THUMBZZZ.jpg</td>\n",
              "      <td>http://images.amazon.com/images/P/0374157065.01.MZZZZZZZ.jpg</td>\n",
              "      <td>http://images.amazon.com/images/P/0374157065.01.LZZZZZZZ.jpg</td>\n",
              "    </tr>\n",
              "    <tr>\n",
              "      <th>4</th>\n",
              "      <td>0393045218</td>\n",
              "      <td>The Mummies of Urumchi</td>\n",
              "      <td>E. J. W. Barber</td>\n",
              "      <td>1999</td>\n",
              "      <td>W. W. Norton &amp;amp; Company</td>\n",
              "      <td>http://images.amazon.com/images/P/0393045218.01.THUMBZZZ.jpg</td>\n",
              "      <td>http://images.amazon.com/images/P/0393045218.01.MZZZZZZZ.jpg</td>\n",
              "      <td>http://images.amazon.com/images/P/0393045218.01.LZZZZZZZ.jpg</td>\n",
              "    </tr>\n",
              "  </tbody>\n",
              "</table>\n",
              "</div>"
            ],
            "text/plain": [
              "         ISBN  ...                                                   Image-URL-L\n",
              "0  0195153448  ...  http://images.amazon.com/images/P/0195153448.01.LZZZZZZZ.jpg\n",
              "1  0002005018  ...  http://images.amazon.com/images/P/0002005018.01.LZZZZZZZ.jpg\n",
              "2  0060973129  ...  http://images.amazon.com/images/P/0060973129.01.LZZZZZZZ.jpg\n",
              "3  0374157065  ...  http://images.amazon.com/images/P/0374157065.01.LZZZZZZZ.jpg\n",
              "4  0393045218  ...  http://images.amazon.com/images/P/0393045218.01.LZZZZZZZ.jpg\n",
              "\n",
              "[5 rows x 8 columns]"
            ]
          },
          "metadata": {
            "tags": []
          },
          "execution_count": 71
        }
      ]
    },
    {
      "cell_type": "markdown",
      "metadata": {
        "id": "FIXJu7etwzGN"
      },
      "source": [
        "Now in the books dataset, we have some extra columns which are not required for our task like Image-URL-S, Image-URL-M and Image-URL-L.\n",
        "\n",
        "And also we will rename the columns of each file. Because the name of the column contains space, and uppercase letters so we will correct as to make it easy to use."
      ]
    },
    {
      "cell_type": "code",
      "metadata": {
        "id": "dczt579K4Zzw"
      },
      "source": [
        "#dropping last three columns containing image URLs which will not be required for analysis\n",
        "books.drop(['Image-URL-S', 'Image-URL-M', 'Image-URL-L'],axis=1,inplace=True)\n",
        "books.rename(columns = {'Book-Title':'title', 'Book-Author':'author', 'Year-Of-Publication':'year', 'Publisher':'publisher'}, inplace=True)\n",
        "users.rename(columns = {'User-ID':'user_id', 'Location':'location', 'Age':'age'}, inplace=True)\n",
        "ratings.rename(columns = {'User-ID':'user_id', 'Book-Rating':'rating'}, inplace=True)"
      ],
      "execution_count": 72,
      "outputs": []
    },
    {
      "cell_type": "code",
      "metadata": {
        "colab": {
          "base_uri": "https://localhost:8080/",
          "height": 200
        },
        "id": "J6aCwZRrxWIJ",
        "outputId": "6b7ec599-5992-4d12-8960-892bc5900e92"
      },
      "source": [
        "#Now the books datasets looks like...\n",
        "books.head()"
      ],
      "execution_count": 73,
      "outputs": [
        {
          "output_type": "execute_result",
          "data": {
            "text/html": [
              "<div>\n",
              "<style scoped>\n",
              "    .dataframe tbody tr th:only-of-type {\n",
              "        vertical-align: middle;\n",
              "    }\n",
              "\n",
              "    .dataframe tbody tr th {\n",
              "        vertical-align: top;\n",
              "    }\n",
              "\n",
              "    .dataframe thead th {\n",
              "        text-align: right;\n",
              "    }\n",
              "</style>\n",
              "<table border=\"1\" class=\"dataframe\">\n",
              "  <thead>\n",
              "    <tr style=\"text-align: right;\">\n",
              "      <th></th>\n",
              "      <th>ISBN</th>\n",
              "      <th>title</th>\n",
              "      <th>author</th>\n",
              "      <th>year</th>\n",
              "      <th>publisher</th>\n",
              "    </tr>\n",
              "  </thead>\n",
              "  <tbody>\n",
              "    <tr>\n",
              "      <th>0</th>\n",
              "      <td>0195153448</td>\n",
              "      <td>Classical Mythology</td>\n",
              "      <td>Mark P. O. Morford</td>\n",
              "      <td>2002</td>\n",
              "      <td>Oxford University Press</td>\n",
              "    </tr>\n",
              "    <tr>\n",
              "      <th>1</th>\n",
              "      <td>0002005018</td>\n",
              "      <td>Clara Callan</td>\n",
              "      <td>Richard Bruce Wright</td>\n",
              "      <td>2001</td>\n",
              "      <td>HarperFlamingo Canada</td>\n",
              "    </tr>\n",
              "    <tr>\n",
              "      <th>2</th>\n",
              "      <td>0060973129</td>\n",
              "      <td>Decision in Normandy</td>\n",
              "      <td>Carlo D'Este</td>\n",
              "      <td>1991</td>\n",
              "      <td>HarperPerennial</td>\n",
              "    </tr>\n",
              "    <tr>\n",
              "      <th>3</th>\n",
              "      <td>0374157065</td>\n",
              "      <td>Flu: The Story of the Great Influenza Pandemic of 1918 and the Search for the Virus That Caused It</td>\n",
              "      <td>Gina Bari Kolata</td>\n",
              "      <td>1999</td>\n",
              "      <td>Farrar Straus Giroux</td>\n",
              "    </tr>\n",
              "    <tr>\n",
              "      <th>4</th>\n",
              "      <td>0393045218</td>\n",
              "      <td>The Mummies of Urumchi</td>\n",
              "      <td>E. J. W. Barber</td>\n",
              "      <td>1999</td>\n",
              "      <td>W. W. Norton &amp;amp; Company</td>\n",
              "    </tr>\n",
              "  </tbody>\n",
              "</table>\n",
              "</div>"
            ],
            "text/plain": [
              "         ISBN  ...                   publisher\n",
              "0  0195153448  ...  Oxford University Press   \n",
              "1  0002005018  ...  HarperFlamingo Canada     \n",
              "2  0060973129  ...  HarperPerennial           \n",
              "3  0374157065  ...  Farrar Straus Giroux      \n",
              "4  0393045218  ...  W. W. Norton &amp; Company\n",
              "\n",
              "[5 rows x 5 columns]"
            ]
          },
          "metadata": {
            "tags": []
          },
          "execution_count": 73
        }
      ]
    },
    {
      "cell_type": "code",
      "metadata": {
        "colab": {
          "base_uri": "https://localhost:8080/"
        },
        "id": "vQYX1SBc44IZ",
        "outputId": "462eb5b9-ec1f-4dcc-9f62-0c783f4b80c2"
      },
      "source": [
        "#checking data types of columns\n",
        "print(books.dtypes)"
      ],
      "execution_count": 74,
      "outputs": [
        {
          "output_type": "stream",
          "text": [
            "ISBN         object\n",
            "title        object\n",
            "author       object\n",
            "year         object\n",
            "publisher    object\n",
            "dtype: object\n"
          ],
          "name": "stdout"
        }
      ]
    },
    {
      "cell_type": "code",
      "metadata": {
        "colab": {
          "base_uri": "https://localhost:8080/"
        },
        "id": "q8jhT4FVyqjw",
        "outputId": "eae761a3-e11d-4ffe-bf0f-45db92870351"
      },
      "source": [
        "#making this setting to display full text in columns\n",
        "pd.set_option('display.max_colwidth', -1)"
      ],
      "execution_count": 75,
      "outputs": [
        {
          "output_type": "stream",
          "text": [
            "/usr/local/lib/python3.7/dist-packages/ipykernel_launcher.py:2: FutureWarning: Passing a negative integer is deprecated in version 1.0 and will not be supported in future version. Instead, use None to not limit the column width.\n",
            "  \n"
          ],
          "name": "stderr"
        }
      ]
    },
    {
      "cell_type": "code",
      "metadata": {
        "colab": {
          "base_uri": "https://localhost:8080/"
        },
        "id": "QQzxAdxPywBM",
        "outputId": "9db7f76f-30e2-402a-8cae-10c950715359"
      },
      "source": [
        "#checking the unique values of Year-Of-Publication\t\n",
        "books.year.unique()"
      ],
      "execution_count": 76,
      "outputs": [
        {
          "output_type": "execute_result",
          "data": {
            "text/plain": [
              "array([2002, 2001, 1991, 1999, 2000, 1993, 1996, 1988, 2004, 1998, 1994,\n",
              "       2003, 1997, 1983, 1979, 1995, 1982, 1985, 1992, 1986, 1978, 1980,\n",
              "       1952, 1987, 1990, 1981, 1989, 1984, 0, 1968, 1961, 1958, 1974,\n",
              "       1976, 1971, 1977, 1975, 1965, 1941, 1970, 1962, 1973, 1972, 1960,\n",
              "       1966, 1920, 1956, 1959, 1953, 1951, 1942, 1963, 1964, 1969, 1954,\n",
              "       1950, 1967, 2005, 1957, 1940, 1937, 1955, 1946, 1936, 1930, 2011,\n",
              "       1925, 1948, 1943, 1947, 1945, 1923, 2020, 1939, 1926, 1938, 2030,\n",
              "       1911, 1904, 1949, 1932, 1928, 1929, 1927, 1931, 1914, 2050, 1934,\n",
              "       1910, 1933, 1902, 1924, 1921, 1900, 2038, 2026, 1944, 1917, 1901,\n",
              "       2010, 1908, 1906, 1935, 1806, 2021, '2000', '1995', '1999', '2004',\n",
              "       '2003', '1990', '1994', '1986', '1989', '2002', '1981', '1993',\n",
              "       '1983', '1982', '1976', '1991', '1977', '1998', '1992', '1996',\n",
              "       '0', '1997', '2001', '1974', '1968', '1987', '1984', '1988',\n",
              "       '1963', '1956', '1970', '1985', '1978', '1973', '1980', '1979',\n",
              "       '1975', '1969', '1961', '1965', '1939', '1958', '1950', '1953',\n",
              "       '1966', '1971', '1959', '1972', '1955', '1957', '1945', '1960',\n",
              "       '1967', '1932', '1924', '1964', '2012', '1911', '1927', '1948',\n",
              "       '1962', '2006', '1952', '1940', '1951', '1931', '1954', '2005',\n",
              "       '1930', '1941', '1944', 'DK Publishing Inc', '1943', '1938',\n",
              "       '1900', '1942', '1923', '1920', '1933', 'Gallimard', '1909',\n",
              "       '1946', '2008', '1378', '2030', '1936', '1947', '2011', '2020',\n",
              "       '1919', '1949', '1922', '1897', '2024', '1376', '1926', '2037'],\n",
              "      dtype=object)"
            ]
          },
          "metadata": {
            "tags": []
          },
          "execution_count": 76
        }
      ]
    },
    {
      "cell_type": "markdown",
      "metadata": {
        "id": "s1f-v4tXz3gA"
      },
      "source": [
        "As it can be seen from below that there are some incorrect entries in this field. It looks like Publisher names '**DK Publishing Inc**' and '**Gallimard**' have been incorrectly loaded as year in dataset due to some errors in csv file. Also some of the entries are strings and same years have been entered as numbers in some places."
      ]
    },
    {
      "cell_type": "code",
      "metadata": {
        "colab": {
          "base_uri": "https://localhost:8080/",
          "height": 138
        },
        "id": "vyuXqK5K38C5",
        "outputId": "525d00b9-a155-452e-f968-d9430d030455"
      },
      "source": [
        "#Checking the rows having 'DK Publishing Inc' and 'Gallimard' as year\n",
        "books.loc[(books.year == 'DK Publishing Inc') |( books.year == 'Gallimard'),:]"
      ],
      "execution_count": 77,
      "outputs": [
        {
          "output_type": "execute_result",
          "data": {
            "text/html": [
              "<div>\n",
              "<style scoped>\n",
              "    .dataframe tbody tr th:only-of-type {\n",
              "        vertical-align: middle;\n",
              "    }\n",
              "\n",
              "    .dataframe tbody tr th {\n",
              "        vertical-align: top;\n",
              "    }\n",
              "\n",
              "    .dataframe thead th {\n",
              "        text-align: right;\n",
              "    }\n",
              "</style>\n",
              "<table border=\"1\" class=\"dataframe\">\n",
              "  <thead>\n",
              "    <tr style=\"text-align: right;\">\n",
              "      <th></th>\n",
              "      <th>ISBN</th>\n",
              "      <th>title</th>\n",
              "      <th>author</th>\n",
              "      <th>year</th>\n",
              "      <th>publisher</th>\n",
              "    </tr>\n",
              "  </thead>\n",
              "  <tbody>\n",
              "    <tr>\n",
              "      <th>209538</th>\n",
              "      <td>078946697X</td>\n",
              "      <td>DK Readers: Creating the X-Men, How It All Began (Level 4: Proficient Readers)\\\";Michael Teitelbaum\"</td>\n",
              "      <td>2000</td>\n",
              "      <td>DK Publishing Inc</td>\n",
              "      <td>http://images.amazon.com/images/P/078946697X.01.THUMBZZZ.jpg</td>\n",
              "    </tr>\n",
              "    <tr>\n",
              "      <th>220731</th>\n",
              "      <td>2070426769</td>\n",
              "      <td>Peuple du ciel, suivi de 'Les Bergers\\\";Jean-Marie Gustave Le ClÃ?Â©zio\"</td>\n",
              "      <td>2003</td>\n",
              "      <td>Gallimard</td>\n",
              "      <td>http://images.amazon.com/images/P/2070426769.01.THUMBZZZ.jpg</td>\n",
              "    </tr>\n",
              "    <tr>\n",
              "      <th>221678</th>\n",
              "      <td>0789466953</td>\n",
              "      <td>DK Readers: Creating the X-Men, How Comic Books Come to Life (Level 4: Proficient Readers)\\\";James Buckley\"</td>\n",
              "      <td>2000</td>\n",
              "      <td>DK Publishing Inc</td>\n",
              "      <td>http://images.amazon.com/images/P/0789466953.01.THUMBZZZ.jpg</td>\n",
              "    </tr>\n",
              "  </tbody>\n",
              "</table>\n",
              "</div>"
            ],
            "text/plain": [
              "              ISBN  ...                                                     publisher\n",
              "209538  078946697X  ...  http://images.amazon.com/images/P/078946697X.01.THUMBZZZ.jpg\n",
              "220731  2070426769  ...  http://images.amazon.com/images/P/2070426769.01.THUMBZZZ.jpg\n",
              "221678  0789466953  ...  http://images.amazon.com/images/P/0789466953.01.THUMBZZZ.jpg\n",
              "\n",
              "[3 rows x 5 columns]"
            ]
          },
          "metadata": {
            "tags": []
          },
          "execution_count": 77
        }
      ]
    },
    {
      "cell_type": "markdown",
      "metadata": {
        "id": "wTCbzBD635Cz"
      },
      "source": [
        "From above dataframe we can see that there has been a shift in the values of this three rows. \n",
        "\n",
        "Let's bring them in the right place."
      ]
    },
    {
      "cell_type": "code",
      "metadata": {
        "id": "Q-BJzKEJ5C6G"
      },
      "source": [
        "#From above, it is seen that bookAuthor is incorrectly loaded with bookTitle, hence making required corrections\n",
        "#ISBN '0789466953'\n",
        "books.loc[books.ISBN == '0789466953','year'] = 2000\n",
        "books.loc[books.ISBN == '0789466953','author'] = \"James Buckley\"\n",
        "books.loc[books.ISBN == '0789466953','publisher'] = \"DK Publishing Inc\"\n",
        "books.loc[books.ISBN == '0789466953','title'] = \"DK Readers: Creating the X-Men, How Comic Books Come to Life (Level 4: Proficient Readers)\""
      ],
      "execution_count": 78,
      "outputs": []
    },
    {
      "cell_type": "code",
      "metadata": {
        "id": "8it_2AYo3VtE"
      },
      "source": [
        "#ISBN '078946697X'\n",
        "books.loc[books.ISBN == '078946697X','year'] = 2000\n",
        "books.loc[books.ISBN == '078946697X','author'] = \"Michael Teitelbaum\"\n",
        "books.loc[books.ISBN == '078946697X','publisher'] = \"DK Publishing Inc\"\n",
        "books.loc[books.ISBN == '078946697X','title'] = \"DK Readers: Creating the X-Men, How It All Began (Level 4: Proficient Readers)\""
      ],
      "execution_count": 79,
      "outputs": []
    },
    {
      "cell_type": "code",
      "metadata": {
        "id": "9-Ev0B4x4ysy"
      },
      "source": [
        "#ISBN '2070426769'\n",
        "books.loc[books.ISBN == '2070426769','year'] = 2003\n",
        "books.loc[books.ISBN == '2070426769','author'] = \"Jean-Marie Gustave Le ClÃ?Â©zio\"\n",
        "books.loc[books.ISBN == '2070426769','publisher'] = \"Gallimard\"\n",
        "books.loc[books.ISBN == '2070426769','title'] = \"Peuple du ciel, suivi de 'Les Bergers\""
      ],
      "execution_count": 80,
      "outputs": []
    },
    {
      "cell_type": "code",
      "metadata": {
        "colab": {
          "base_uri": "https://localhost:8080/",
          "height": 138
        },
        "id": "6-lqdJu53poa",
        "outputId": "05d0fb92-918d-4bcf-b8a5-d378a7022eef"
      },
      "source": [
        "#Rechecking\n",
        "books.loc[(books.ISBN == '0789466953') | (books.ISBN == '078946697X') | (books.ISBN == '2070426769'),:]"
      ],
      "execution_count": 81,
      "outputs": [
        {
          "output_type": "execute_result",
          "data": {
            "text/html": [
              "<div>\n",
              "<style scoped>\n",
              "    .dataframe tbody tr th:only-of-type {\n",
              "        vertical-align: middle;\n",
              "    }\n",
              "\n",
              "    .dataframe tbody tr th {\n",
              "        vertical-align: top;\n",
              "    }\n",
              "\n",
              "    .dataframe thead th {\n",
              "        text-align: right;\n",
              "    }\n",
              "</style>\n",
              "<table border=\"1\" class=\"dataframe\">\n",
              "  <thead>\n",
              "    <tr style=\"text-align: right;\">\n",
              "      <th></th>\n",
              "      <th>ISBN</th>\n",
              "      <th>title</th>\n",
              "      <th>author</th>\n",
              "      <th>year</th>\n",
              "      <th>publisher</th>\n",
              "    </tr>\n",
              "  </thead>\n",
              "  <tbody>\n",
              "    <tr>\n",
              "      <th>209538</th>\n",
              "      <td>078946697X</td>\n",
              "      <td>DK Readers: Creating the X-Men, How It All Began (Level 4: Proficient Readers)</td>\n",
              "      <td>Michael Teitelbaum</td>\n",
              "      <td>2000</td>\n",
              "      <td>DK Publishing Inc</td>\n",
              "    </tr>\n",
              "    <tr>\n",
              "      <th>220731</th>\n",
              "      <td>2070426769</td>\n",
              "      <td>Peuple du ciel, suivi de 'Les Bergers</td>\n",
              "      <td>Jean-Marie Gustave Le ClÃ?Â©zio</td>\n",
              "      <td>2003</td>\n",
              "      <td>Gallimard</td>\n",
              "    </tr>\n",
              "    <tr>\n",
              "      <th>221678</th>\n",
              "      <td>0789466953</td>\n",
              "      <td>DK Readers: Creating the X-Men, How Comic Books Come to Life (Level 4: Proficient Readers)</td>\n",
              "      <td>James Buckley</td>\n",
              "      <td>2000</td>\n",
              "      <td>DK Publishing Inc</td>\n",
              "    </tr>\n",
              "  </tbody>\n",
              "</table>\n",
              "</div>"
            ],
            "text/plain": [
              "              ISBN  ...          publisher\n",
              "209538  078946697X  ...  DK Publishing Inc\n",
              "220731  2070426769  ...  Gallimard        \n",
              "221678  0789466953  ...  DK Publishing Inc\n",
              "\n",
              "[3 rows x 5 columns]"
            ]
          },
          "metadata": {
            "tags": []
          },
          "execution_count": 81
        }
      ]
    },
    {
      "cell_type": "code",
      "metadata": {
        "id": "lbDVaWLu3hjX"
      },
      "source": [
        "# Correcting the dtypes of year\n",
        "books.year = pd.to_numeric(books.year, errors='coerce')"
      ],
      "execution_count": 82,
      "outputs": []
    },
    {
      "cell_type": "code",
      "metadata": {
        "colab": {
          "base_uri": "https://localhost:8080/"
        },
        "id": "Ab0x0NO68X0V",
        "outputId": "06464fcf-be49-4617-f438-d5ec3e01973a"
      },
      "source": [
        "#Checking dtype\n",
        "books.year.dtype"
      ],
      "execution_count": 83,
      "outputs": [
        {
          "output_type": "execute_result",
          "data": {
            "text/plain": [
              "dtype('int64')"
            ]
          },
          "metadata": {
            "tags": []
          },
          "execution_count": 83
        }
      ]
    },
    {
      "cell_type": "code",
      "metadata": {
        "colab": {
          "base_uri": "https://localhost:8080/"
        },
        "id": "9H-gQXYV6RvP",
        "outputId": "4c5d714d-0849-46a0-c48d-97601bff448a"
      },
      "source": [
        "# Printing unique sorted years of books\n",
        "print(sorted(books['year'].unique()))"
      ],
      "execution_count": 84,
      "outputs": [
        {
          "output_type": "stream",
          "text": [
            "[0, 1376, 1378, 1806, 1897, 1900, 1901, 1902, 1904, 1906, 1908, 1909, 1910, 1911, 1914, 1917, 1919, 1920, 1921, 1922, 1923, 1924, 1925, 1926, 1927, 1928, 1929, 1930, 1931, 1932, 1933, 1934, 1935, 1936, 1937, 1938, 1939, 1940, 1941, 1942, 1943, 1944, 1945, 1946, 1947, 1948, 1949, 1950, 1951, 1952, 1953, 1954, 1955, 1956, 1957, 1958, 1959, 1960, 1961, 1962, 1963, 1964, 1965, 1966, 1967, 1968, 1969, 1970, 1971, 1972, 1973, 1974, 1975, 1976, 1977, 1978, 1979, 1980, 1981, 1982, 1983, 1984, 1985, 1986, 1987, 1988, 1989, 1990, 1991, 1992, 1993, 1994, 1995, 1996, 1997, 1998, 1999, 2000, 2001, 2002, 2003, 2004, 2005, 2006, 2008, 2010, 2011, 2012, 2020, 2021, 2024, 2026, 2030, 2037, 2038, 2050]\n"
          ],
          "name": "stdout"
        }
      ]
    },
    {
      "cell_type": "markdown",
      "metadata": {
        "id": "s8oZDmAZB-Xm"
      },
      "source": [
        "Now, it can be seen that \"year\" has all values as integers."
      ]
    },
    {
      "cell_type": "code",
      "metadata": {
        "id": "6bcNDDGI6tMZ"
      },
      "source": [
        "# Since, the value 0 is invalid \n",
        "# setting '0' years as NaN\n",
        "books.loc[(books.year == 0),'year'] = np.NAN"
      ],
      "execution_count": 85,
      "outputs": []
    },
    {
      "cell_type": "markdown",
      "metadata": {
        "id": "MS3JB9iJFo5f"
      },
      "source": [
        "**Missing Value Analysis** \n",
        "\n",
        " Handling missing data is important as many machine learning algorithms do not support data with missing values."
      ]
    },
    {
      "cell_type": "code",
      "metadata": {
        "colab": {
          "base_uri": "https://localhost:8080/"
        },
        "id": "ggsrhHc1FZXB",
        "outputId": "e3f20374-e116-4c2d-d952-f1233c5c82e1"
      },
      "source": [
        "# checking for missing values\n",
        "books.isnull().sum()"
      ],
      "execution_count": 86,
      "outputs": [
        {
          "output_type": "execute_result",
          "data": {
            "text/plain": [
              "ISBN         0   \n",
              "title        0   \n",
              "author       1   \n",
              "year         4618\n",
              "publisher    2   \n",
              "dtype: int64"
            ]
          },
          "metadata": {
            "tags": []
          },
          "execution_count": 86
        }
      ]
    },
    {
      "cell_type": "code",
      "metadata": {
        "colab": {
          "base_uri": "https://localhost:8080/",
          "height": 515
        },
        "id": "bFtHq6SGGEr3",
        "outputId": "76fa652a-e506-4431-e06b-5d2abd3e341b"
      },
      "source": [
        "# Let's visualize the location of missing values\n",
        "fig, ax = plt.subplots(figsize=(15,8))\n",
        "plt.title('Places of missing values in column')\n",
        "sns.heatmap(books.isnull(), cbar=False, ax=ax)"
      ],
      "execution_count": 87,
      "outputs": [
        {
          "output_type": "execute_result",
          "data": {
            "text/plain": [
              "<matplotlib.axes._subplots.AxesSubplot at 0x7fbb965598d0>"
            ]
          },
          "metadata": {
            "tags": []
          },
          "execution_count": 87
        },
        {
          "output_type": "display_data",
          "data": {
            "image/png": "[encoded data removed]",
            "text/plain": [
              "<Figure size 1080x576 with 1 Axes>"
            ]
          },
          "metadata": {
            "tags": [],
            "needs_background": "light"
          }
        }
      ]
    },
    {
      "cell_type": "markdown",
      "metadata": {
        "id": "155gnqrCHdWA"
      },
      "source": [
        "Here, we can see above that year column have **4618** missing values."
      ]
    },
    {
      "cell_type": "code",
      "metadata": {
        "id": "PfITl0i6HIbU"
      },
      "source": [
        "#Replacing NaNs with mean value of year feature\n",
        "books.year.fillna(round(books.year.mean()), inplace=True)"
      ],
      "execution_count": 88,
      "outputs": []
    },
    {
      "cell_type": "code",
      "metadata": {
        "colab": {
          "base_uri": "https://localhost:8080/"
        },
        "id": "d8u8JS57IHsd",
        "outputId": "84f07c76-a98a-48cd-947f-e7d2d9871e49"
      },
      "source": [
        "#rechecking\n",
        "books.year.isnull().sum()\n",
        "#No Nan values"
      ],
      "execution_count": 89,
      "outputs": [
        {
          "output_type": "execute_result",
          "data": {
            "text/plain": [
              "0"
            ]
          },
          "metadata": {
            "tags": []
          },
          "execution_count": 89
        }
      ]
    },
    {
      "cell_type": "code",
      "metadata": {
        "id": "4hr9tKPdKzeb"
      },
      "source": [
        "#Resetting the dtype as int32\n",
        "books.year = books.year.astype(np.int64)"
      ],
      "execution_count": 90,
      "outputs": []
    },
    {
      "cell_type": "code",
      "metadata": {
        "colab": {
          "base_uri": "https://localhost:8080/",
          "height": 108
        },
        "id": "_C2H-40yIWOY",
        "outputId": "1c35876d-eaa3-460c-b6b9-2098a50419e6"
      },
      "source": [
        "#exploring 'publisher' column\n",
        "books.loc[books.publisher.isnull(),:]"
      ],
      "execution_count": 91,
      "outputs": [
        {
          "output_type": "execute_result",
          "data": {
            "text/html": [
              "<div>\n",
              "<style scoped>\n",
              "    .dataframe tbody tr th:only-of-type {\n",
              "        vertical-align: middle;\n",
              "    }\n",
              "\n",
              "    .dataframe tbody tr th {\n",
              "        vertical-align: top;\n",
              "    }\n",
              "\n",
              "    .dataframe thead th {\n",
              "        text-align: right;\n",
              "    }\n",
              "</style>\n",
              "<table border=\"1\" class=\"dataframe\">\n",
              "  <thead>\n",
              "    <tr style=\"text-align: right;\">\n",
              "      <th></th>\n",
              "      <th>ISBN</th>\n",
              "      <th>title</th>\n",
              "      <th>author</th>\n",
              "      <th>year</th>\n",
              "      <th>publisher</th>\n",
              "    </tr>\n",
              "  </thead>\n",
              "  <tbody>\n",
              "    <tr>\n",
              "      <th>128890</th>\n",
              "      <td>193169656X</td>\n",
              "      <td>Tyrant Moon</td>\n",
              "      <td>Elaine Corvidae</td>\n",
              "      <td>2002</td>\n",
              "      <td>NaN</td>\n",
              "    </tr>\n",
              "    <tr>\n",
              "      <th>129037</th>\n",
              "      <td>1931696993</td>\n",
              "      <td>Finders Keepers</td>\n",
              "      <td>Linnea Sinclair</td>\n",
              "      <td>2001</td>\n",
              "      <td>NaN</td>\n",
              "    </tr>\n",
              "  </tbody>\n",
              "</table>\n",
              "</div>"
            ],
            "text/plain": [
              "              ISBN            title           author  year publisher\n",
              "128890  193169656X  Tyrant Moon      Elaine Corvidae  2002  NaN     \n",
              "129037  1931696993  Finders Keepers  Linnea Sinclair  2001  NaN     "
            ]
          },
          "metadata": {
            "tags": []
          },
          "execution_count": 91
        }
      ]
    },
    {
      "cell_type": "markdown",
      "metadata": {
        "id": "SRZ_T2SRI-Pq"
      },
      "source": [
        "In publisher column we've two missing values.\n",
        "\n",
        "Here, we replace these nan's with '**other**'"
      ]
    },
    {
      "cell_type": "code",
      "metadata": {
        "id": "yFyeatXvI59O"
      },
      "source": [
        "#Replacing missing values with 'other'\n",
        "books.loc[(books.ISBN == '193169656X'),'publisher'] = 'other'\n",
        "books.loc[(books.ISBN == '1931696993'),'publisher'] = 'other'"
      ],
      "execution_count": 92,
      "outputs": []
    },
    {
      "cell_type": "code",
      "metadata": {
        "colab": {
          "base_uri": "https://localhost:8080/"
        },
        "id": "6a-_-hHr8EtK",
        "outputId": "0f33190f-e233-4416-a834-784a6fb91ead"
      },
      "source": [
        "#Checking for the missing value\n",
        "print(books['publisher'].isnull().sum())"
      ],
      "execution_count": 94,
      "outputs": [
        {
          "output_type": "stream",
          "text": [
            "0\n"
          ],
          "name": "stdout"
        }
      ]
    },
    {
      "cell_type": "code",
      "metadata": {
        "id": "1G5sWFXBKZy5"
      },
      "source": [
        "# Excluding the missing values in 'author' column \n",
        "books.dropna(axis=0,inplace=True)"
      ],
      "execution_count": 93,
      "outputs": []
    },
    {
      "cell_type": "code",
      "metadata": {
        "colab": {
          "base_uri": "https://localhost:8080/"
        },
        "id": "UnHDro3bLYs0",
        "outputId": "9c20902a-5f47-46d7-ceb7-3b8983bfde12"
      },
      "source": [
        "# Now checking for missing values\n",
        "books.isnull().any()"
      ],
      "execution_count": 95,
      "outputs": [
        {
          "output_type": "execute_result",
          "data": {
            "text/plain": [
              "ISBN         False\n",
              "title        False\n",
              "author       False\n",
              "year         False\n",
              "publisher    False\n",
              "dtype: bool"
            ]
          },
          "metadata": {
            "tags": []
          },
          "execution_count": 95
        }
      ]
    },
    {
      "cell_type": "code",
      "metadata": {
        "colab": {
          "base_uri": "https://localhost:8080/"
        },
        "id": "a29_bU_HfCrb",
        "outputId": "3a48d555-abdf-44d1-f8f5-19f706592762"
      },
      "source": [
        "#Print a concise summary of a DataFrame\n",
        "books.info()"
      ],
      "execution_count": 32,
      "outputs": [
        {
          "output_type": "stream",
          "text": [
            "<class 'pandas.core.frame.DataFrame'>\n",
            "Int64Index: 271359 entries, 0 to 271359\n",
            "Data columns (total 5 columns):\n",
            " #   Column     Non-Null Count   Dtype \n",
            "---  ------     --------------   ----- \n",
            " 0   ISBN       271359 non-null  object\n",
            " 1   title      271359 non-null  object\n",
            " 2   author     271359 non-null  object\n",
            " 3   year       271359 non-null  int64 \n",
            " 4   publisher  271359 non-null  object\n",
            "dtypes: int64(1), object(4)\n",
            "memory usage: 12.4+ MB\n"
          ],
          "name": "stdout"
        }
      ]
    },
    {
      "cell_type": "code",
      "metadata": {
        "colab": {
          "base_uri": "https://localhost:8080/"
        },
        "id": "Vr_WqhoDesCD",
        "outputId": "a1e7c137-c538-4921-86ba-6be209cf9a01"
      },
      "source": [
        "# Checking for any duplicate values \n",
        "len(books[books.duplicated()])\n",
        "# No duplicate"
      ],
      "execution_count": 33,
      "outputs": [
        {
          "output_type": "execute_result",
          "data": {
            "text/plain": [
              "0"
            ]
          },
          "metadata": {
            "tags": []
          },
          "execution_count": 33
        }
      ]
    },
    {
      "cell_type": "code",
      "metadata": {
        "colab": {
          "base_uri": "https://localhost:8080/",
          "height": 498
        },
        "id": "I5a5siIhfrWJ",
        "outputId": "a643fc21-22a3-404a-edaa-6e4c71658b63"
      },
      "source": [
        "# Let's see the data distribution\n",
        "#Plot histogram to see the distribution of the data\n",
        "fig = plt.figure(figsize = (12,8))\n",
        "ax = fig.gca()\n",
        "books.hist(ax = ax)\n",
        "plt.show()"
      ],
      "execution_count": 35,
      "outputs": [
        {
          "output_type": "display_data",
          "data": {
            "image/png": "[encoded data removed]",
            "text/plain": [
              "<Figure size 864x576 with 1 Axes>"
            ]
          },
          "metadata": {
            "tags": [],
            "needs_background": "light"
          }
        }
      ]
    },
    {
      "cell_type": "markdown",
      "metadata": {
        "id": "ymNyeSEDhyiq"
      },
      "source": [
        "From above plot we can see that years are starting from 1920 till 2050."
      ]
    },
    {
      "cell_type": "markdown",
      "metadata": {
        "id": "JLrSXAfXLukv"
      },
      "source": [
        "###Exploring Users dataset"
      ]
    },
    {
      "cell_type": "code",
      "metadata": {
        "colab": {
          "base_uri": "https://localhost:8080/",
          "height": 200
        },
        "id": "g6PKzBZ5L3FD",
        "outputId": "1b9099fe-a901-4794-9cd2-cecce598b8a4"
      },
      "source": [
        "#Printing Top 5 rows \n",
        "users.head()"
      ],
      "execution_count": 96,
      "outputs": [
        {
          "output_type": "execute_result",
          "data": {
            "text/html": [
              "<div>\n",
              "<style scoped>\n",
              "    .dataframe tbody tr th:only-of-type {\n",
              "        vertical-align: middle;\n",
              "    }\n",
              "\n",
              "    .dataframe tbody tr th {\n",
              "        vertical-align: top;\n",
              "    }\n",
              "\n",
              "    .dataframe thead th {\n",
              "        text-align: right;\n",
              "    }\n",
              "</style>\n",
              "<table border=\"1\" class=\"dataframe\">\n",
              "  <thead>\n",
              "    <tr style=\"text-align: right;\">\n",
              "      <th></th>\n",
              "      <th>user_id</th>\n",
              "      <th>location</th>\n",
              "      <th>age</th>\n",
              "    </tr>\n",
              "  </thead>\n",
              "  <tbody>\n",
              "    <tr>\n",
              "      <th>0</th>\n",
              "      <td>1</td>\n",
              "      <td>nyc, new york, usa</td>\n",
              "      <td>NaN</td>\n",
              "    </tr>\n",
              "    <tr>\n",
              "      <th>1</th>\n",
              "      <td>2</td>\n",
              "      <td>stockton, california, usa</td>\n",
              "      <td>18.0</td>\n",
              "    </tr>\n",
              "    <tr>\n",
              "      <th>2</th>\n",
              "      <td>3</td>\n",
              "      <td>moscow, yukon territory, russia</td>\n",
              "      <td>NaN</td>\n",
              "    </tr>\n",
              "    <tr>\n",
              "      <th>3</th>\n",
              "      <td>4</td>\n",
              "      <td>porto, v.n.gaia, portugal</td>\n",
              "      <td>17.0</td>\n",
              "    </tr>\n",
              "    <tr>\n",
              "      <th>4</th>\n",
              "      <td>5</td>\n",
              "      <td>farnborough, hants, united kingdom</td>\n",
              "      <td>NaN</td>\n",
              "    </tr>\n",
              "  </tbody>\n",
              "</table>\n",
              "</div>"
            ],
            "text/plain": [
              "   user_id                            location   age\n",
              "0  1        nyc, new york, usa                 NaN  \n",
              "1  2        stockton, california, usa           18.0\n",
              "2  3        moscow, yukon territory, russia    NaN  \n",
              "3  4        porto, v.n.gaia, portugal           17.0\n",
              "4  5        farnborough, hants, united kingdom NaN  "
            ]
          },
          "metadata": {
            "tags": []
          },
          "execution_count": 96
        }
      ]
    },
    {
      "cell_type": "code",
      "metadata": {
        "colab": {
          "base_uri": "https://localhost:8080/"
        },
        "id": "6FYMSFEiL25Y",
        "outputId": "26a78e05-d9a1-49f5-8866-cb1d3aed1d62"
      },
      "source": [
        "# getting info about user data\n",
        "users.info()"
      ],
      "execution_count": 97,
      "outputs": [
        {
          "output_type": "stream",
          "text": [
            "<class 'pandas.core.frame.DataFrame'>\n",
            "RangeIndex: 278858 entries, 0 to 278857\n",
            "Data columns (total 3 columns):\n",
            " #   Column    Non-Null Count   Dtype  \n",
            "---  ------    --------------   -----  \n",
            " 0   user_id   278858 non-null  int64  \n",
            " 1   location  278858 non-null  object \n",
            " 2   age       168096 non-null  float64\n",
            "dtypes: float64(1), int64(1), object(1)\n",
            "memory usage: 6.4+ MB\n"
          ],
          "name": "stdout"
        }
      ]
    },
    {
      "cell_type": "code",
      "metadata": {
        "colab": {
          "base_uri": "https://localhost:8080/"
        },
        "id": "TeC1R5XIL2th",
        "outputId": "1b1c38d1-53da-4323-b853-158ebaefd471"
      },
      "source": [
        "# Checking unique values of user_id\n",
        "users.user_id.unique()\n",
        "#it can be seen that these are unique"
      ],
      "execution_count": 98,
      "outputs": [
        {
          "output_type": "execute_result",
          "data": {
            "text/plain": [
              "array([     1,      2,      3, ..., 278856, 278857, 278858])"
            ]
          },
          "metadata": {
            "tags": []
          },
          "execution_count": 98
        }
      ]
    },
    {
      "cell_type": "markdown",
      "metadata": {
        "id": "RexCdA7KNRjD"
      },
      "source": [
        "**Missing value analysis**"
      ]
    },
    {
      "cell_type": "code",
      "metadata": {
        "colab": {
          "base_uri": "https://localhost:8080/"
        },
        "id": "Q7GOjBllNeXx",
        "outputId": "db680488-3f33-4edd-9035-a77742dc1579"
      },
      "source": [
        "# checking for missing values\n",
        "users.isnull().sum()"
      ],
      "execution_count": 99,
      "outputs": [
        {
          "output_type": "execute_result",
          "data": {
            "text/plain": [
              "user_id     0     \n",
              "location    0     \n",
              "age         110762\n",
              "dtype: int64"
            ]
          },
          "metadata": {
            "tags": []
          },
          "execution_count": 99
        }
      ]
    },
    {
      "cell_type": "code",
      "metadata": {
        "colab": {
          "base_uri": "https://localhost:8080/",
          "height": 516
        },
        "id": "r1FhH3DwNeX6",
        "outputId": "fb150132-bc42-49c3-877d-6d1f498aba6f"
      },
      "source": [
        "# Let's visualize the location of missing values\n",
        "fig, ax = plt.subplots(figsize=(15,8))\n",
        "plt.title('Places of missing values in column')\n",
        "sns.heatmap(users.isnull(), cbar=False, ax=ax)"
      ],
      "execution_count": 100,
      "outputs": [
        {
          "output_type": "execute_result",
          "data": {
            "text/plain": [
              "<matplotlib.axes._subplots.AxesSubplot at 0x7fbb91ce8310>"
            ]
          },
          "metadata": {
            "tags": []
          },
          "execution_count": 100
        },
        {
          "output_type": "display_data",
          "data": {
            "image/png": "[encoded data removed]",
            "text/plain": [
              "<Figure size 1080x576 with 1 Axes>"
            ]
          },
          "metadata": {
            "tags": [],
            "needs_background": "light"
          }
        }
      ]
    },
    {
      "cell_type": "markdown",
      "metadata": {
        "id": "zsIqjf5zNn4l"
      },
      "source": [
        "It can be observed that only **age** column have missing values.\n",
        "\n"
      ]
    },
    {
      "cell_type": "code",
      "metadata": {
        "colab": {
          "base_uri": "https://localhost:8080/",
          "height": 78
        },
        "id": "G3FUjFZLxvNP",
        "outputId": "bb62b084-1ec4-4a9d-c6d0-5bfce84f91b3"
      },
      "source": [
        "# percentage of missing data per category\n",
        "total = users.isnull().sum().sort_values(ascending=False)\n",
        "percent_total = (users.isnull().sum()/users.isnull().count()).sort_values(ascending=False)*100\n",
        "missing = pd.concat([total, percent_total], axis=1, keys=[\"Total\", \"Percentage\"])\n",
        "missing_data = missing[missing['Total']>0]\n",
        "missing_data"
      ],
      "execution_count": 65,
      "outputs": [
        {
          "output_type": "execute_result",
          "data": {
            "text/html": [
              "<div>\n",
              "<style scoped>\n",
              "    .dataframe tbody tr th:only-of-type {\n",
              "        vertical-align: middle;\n",
              "    }\n",
              "\n",
              "    .dataframe tbody tr th {\n",
              "        vertical-align: top;\n",
              "    }\n",
              "\n",
              "    .dataframe thead th {\n",
              "        text-align: right;\n",
              "    }\n",
              "</style>\n",
              "<table border=\"1\" class=\"dataframe\">\n",
              "  <thead>\n",
              "    <tr style=\"text-align: right;\">\n",
              "      <th></th>\n",
              "      <th>Total</th>\n",
              "      <th>Percentage</th>\n",
              "    </tr>\n",
              "  </thead>\n",
              "  <tbody>\n",
              "    <tr>\n",
              "      <th>age</th>\n",
              "      <td>110762</td>\n",
              "      <td>39.719857</td>\n",
              "    </tr>\n",
              "  </tbody>\n",
              "</table>\n",
              "</div>"
            ],
            "text/plain": [
              "      Total  Percentage\n",
              "age  110762  39.719857 "
            ]
          },
          "metadata": {
            "tags": []
          },
          "execution_count": 65
        }
      ]
    },
    {
      "cell_type": "code",
      "metadata": {
        "colab": {
          "base_uri": "https://localhost:8080/"
        },
        "id": "qF3juEUbNlJP",
        "outputId": "64442fd0-9679-4559-d90b-bbcbda0fe92b"
      },
      "source": [
        "# Getting unique age values in sorted manner\n",
        "print(sorted(users.age.unique()))"
      ],
      "execution_count": 41,
      "outputs": [
        {
          "output_type": "stream",
          "text": [
            "[nan, 0.0, 1.0, 2.0, 3.0, 4.0, 5.0, 6.0, 7.0, 8.0, 9.0, 10.0, 11.0, 12.0, 13.0, 14.0, 15.0, 16.0, 17.0, 18.0, 19.0, 20.0, 21.0, 22.0, 23.0, 24.0, 25.0, 26.0, 27.0, 28.0, 29.0, 30.0, 31.0, 32.0, 33.0, 34.0, 35.0, 36.0, 37.0, 38.0, 39.0, 40.0, 41.0, 42.0, 43.0, 44.0, 45.0, 46.0, 47.0, 48.0, 49.0, 50.0, 51.0, 52.0, 53.0, 54.0, 55.0, 56.0, 57.0, 58.0, 59.0, 60.0, 61.0, 62.0, 63.0, 64.0, 65.0, 66.0, 67.0, 68.0, 69.0, 70.0, 71.0, 72.0, 73.0, 74.0, 75.0, 76.0, 77.0, 78.0, 79.0, 80.0, 81.0, 82.0, 83.0, 84.0, 85.0, 86.0, 87.0, 88.0, 89.0, 90.0, 91.0, 92.0, 93.0, 94.0, 95.0, 96.0, 97.0, 98.0, 99.0, 100.0, 101.0, 102.0, 103.0, 104.0, 105.0, 106.0, 107.0, 108.0, 109.0, 110.0, 111.0, 113.0, 114.0, 115.0, 116.0, 118.0, 119.0, 123.0, 124.0, 127.0, 128.0, 132.0, 133.0, 136.0, 137.0, 138.0, 140.0, 141.0, 143.0, 146.0, 147.0, 148.0, 151.0, 152.0, 156.0, 157.0, 159.0, 162.0, 168.0, 172.0, 175.0, 183.0, 186.0, 189.0, 199.0, 200.0, 201.0, 204.0, 207.0, 208.0, 209.0, 210.0, 212.0, 219.0, 220.0, 223.0, 226.0, 228.0, 229.0, 230.0, 231.0, 237.0, 239.0, 244.0]\n"
          ],
          "name": "stdout"
        }
      ]
    },
    {
      "cell_type": "markdown",
      "metadata": {
        "id": "qF7ftm8ROeej"
      },
      "source": [
        "Age column has some invalid entries like nan, 0 and very high values like 100 and above.\n",
        "\n",
        "In my view values below **5** and above **90** do not make much sense for our book rating case...hence replacing these by NaNs.\n"
      ]
    },
    {
      "cell_type": "code",
      "metadata": {
        "id": "9NpNWHYEOEiO"
      },
      "source": [
        "# Replacing age below 5 and above 90 by NaNs\n",
        "users.loc[(users.age > 90) | (users.age < 5), 'age'] = np.nan"
      ],
      "execution_count": 101,
      "outputs": []
    },
    {
      "cell_type": "code",
      "metadata": {
        "id": "_cmQ9Ix68-fP"
      },
      "source": [
        "user_data.loc[(user_data['age'] > 90) | (user_data['age'] < 5)] = np.nan\n",
        "user_data['age'].fillna((user_data['age'].mean()), inplace=True)\n",
        "user_data['age']= user_data['age'].astype('int64')\n",
        "user_data['age'].unique()"
      ],
      "execution_count": null,
      "outputs": []
    },
    {
      "cell_type": "code",
      "metadata": {
        "id": "FmbFimFwPiUE"
      },
      "source": [
        "#Now, Replacing NaNs with mean\n",
        "users['age'].fillna((users['age'].mean()), inplace=True)"
      ],
      "execution_count": 102,
      "outputs": []
    },
    {
      "cell_type": "code",
      "metadata": {
        "id": "6L2yCrFoP273"
      },
      "source": [
        "#setting the data type as int\n",
        "users.age = users.age.astype(np.int64)"
      ],
      "execution_count": 103,
      "outputs": []
    },
    {
      "cell_type": "code",
      "metadata": {
        "colab": {
          "base_uri": "https://localhost:8080/"
        },
        "id": "DVCOXbTIPzmG",
        "outputId": "4d8ef61d-4efa-4177-8a10-b3819ee68cb2"
      },
      "source": [
        "# Users dataset information\n",
        "users.info()"
      ],
      "execution_count": 104,
      "outputs": [
        {
          "output_type": "stream",
          "text": [
            "<class 'pandas.core.frame.DataFrame'>\n",
            "RangeIndex: 278858 entries, 0 to 278857\n",
            "Data columns (total 3 columns):\n",
            " #   Column    Non-Null Count   Dtype \n",
            "---  ------    --------------   ----- \n",
            " 0   user_id   278858 non-null  int64 \n",
            " 1   location  278858 non-null  object\n",
            " 2   age       278858 non-null  int64 \n",
            "dtypes: int64(2), object(1)\n",
            "memory usage: 6.4+ MB\n"
          ],
          "name": "stdout"
        }
      ]
    },
    {
      "cell_type": "code",
      "metadata": {
        "colab": {
          "base_uri": "https://localhost:8080/"
        },
        "id": "HzkaArsiiSt2",
        "outputId": "035edc9b-0372-4be5-f451-1c83abc0038b"
      },
      "source": [
        "# Checking for any duplicate values \n",
        "len(users[users.duplicated()])\n",
        "# No duplicate"
      ],
      "execution_count": 107,
      "outputs": [
        {
          "output_type": "execute_result",
          "data": {
            "text/plain": [
              "0"
            ]
          },
          "metadata": {
            "tags": []
          },
          "execution_count": 107
        }
      ]
    },
    {
      "cell_type": "markdown",
      "metadata": {
        "id": "ZQ1I71XuQfQK"
      },
      "source": [
        "###Exploring Ratings Dataset"
      ]
    },
    {
      "cell_type": "code",
      "metadata": {
        "colab": {
          "base_uri": "https://localhost:8080/",
          "height": 200
        },
        "id": "XiDeWcXiQUf9",
        "outputId": "1b3d0c1a-90c4-4c2a-d311-a62de843983c"
      },
      "source": [
        "# Printing top 5 rows\n",
        "ratings.head()"
      ],
      "execution_count": 108,
      "outputs": [
        {
          "output_type": "execute_result",
          "data": {
            "text/html": [
              "<div>\n",
              "<style scoped>\n",
              "    .dataframe tbody tr th:only-of-type {\n",
              "        vertical-align: middle;\n",
              "    }\n",
              "\n",
              "    .dataframe tbody tr th {\n",
              "        vertical-align: top;\n",
              "    }\n",
              "\n",
              "    .dataframe thead th {\n",
              "        text-align: right;\n",
              "    }\n",
              "</style>\n",
              "<table border=\"1\" class=\"dataframe\">\n",
              "  <thead>\n",
              "    <tr style=\"text-align: right;\">\n",
              "      <th></th>\n",
              "      <th>user_id</th>\n",
              "      <th>ISBN</th>\n",
              "      <th>rating</th>\n",
              "    </tr>\n",
              "  </thead>\n",
              "  <tbody>\n",
              "    <tr>\n",
              "      <th>0</th>\n",
              "      <td>276725</td>\n",
              "      <td>034545104X</td>\n",
              "      <td>0</td>\n",
              "    </tr>\n",
              "    <tr>\n",
              "      <th>1</th>\n",
              "      <td>276726</td>\n",
              "      <td>0155061224</td>\n",
              "      <td>5</td>\n",
              "    </tr>\n",
              "    <tr>\n",
              "      <th>2</th>\n",
              "      <td>276727</td>\n",
              "      <td>0446520802</td>\n",
              "      <td>0</td>\n",
              "    </tr>\n",
              "    <tr>\n",
              "      <th>3</th>\n",
              "      <td>276729</td>\n",
              "      <td>052165615X</td>\n",
              "      <td>3</td>\n",
              "    </tr>\n",
              "    <tr>\n",
              "      <th>4</th>\n",
              "      <td>276729</td>\n",
              "      <td>0521795028</td>\n",
              "      <td>6</td>\n",
              "    </tr>\n",
              "  </tbody>\n",
              "</table>\n",
              "</div>"
            ],
            "text/plain": [
              "   user_id        ISBN  rating\n",
              "0  276725   034545104X  0     \n",
              "1  276726   0155061224  5     \n",
              "2  276727   0446520802  0     \n",
              "3  276729   052165615X  3     \n",
              "4  276729   0521795028  6     "
            ]
          },
          "metadata": {
            "tags": []
          },
          "execution_count": 108
        }
      ]
    },
    {
      "cell_type": "markdown",
      "metadata": {
        "id": "sseV2LzVtHKa"
      },
      "source": [
        "Let's see how many users have given ratings and extracting those users who have given more than 200 ratings."
      ]
    },
    {
      "cell_type": "code",
      "metadata": {
        "colab": {
          "base_uri": "https://localhost:8080/"
        },
        "id": "NtKKcWaQs0sA",
        "outputId": "c7c8487a-b2ac-45ad-c278-0b6e97dfb435"
      },
      "source": [
        "# Value counts of user_id\n",
        "ratings['user_id'].value_counts()"
      ],
      "execution_count": 50,
      "outputs": [
        {
          "output_type": "execute_result",
          "data": {
            "text/plain": [
              "11676     13602\n",
              "198711    7550 \n",
              "153662    6109 \n",
              "98391     5891 \n",
              "35859     5850 \n",
              "          ...  \n",
              "158698    1    \n",
              "17920     1    \n",
              "277135    1    \n",
              "275086    1    \n",
              "187812    1    \n",
              "Name: user_id, Length: 105283, dtype: int64"
            ]
          },
          "metadata": {
            "tags": []
          },
          "execution_count": 50
        }
      ]
    },
    {
      "cell_type": "code",
      "metadata": {
        "colab": {
          "base_uri": "https://localhost:8080/"
        },
        "id": "j_3GD7raQt5l",
        "outputId": "72875f49-6429-4870-e836-579a2c592d8d"
      },
      "source": [
        "#Getting unique values \n",
        "ratings.rating.unique()\n",
        "#it can be seen that these are unique and has range between 0-10"
      ],
      "execution_count": 52,
      "outputs": [
        {
          "output_type": "execute_result",
          "data": {
            "text/plain": [
              "array([10,  0,  8,  7,  9,  6,  5,  4,  3,  2,  1])"
            ]
          },
          "metadata": {
            "tags": []
          },
          "execution_count": 52
        }
      ]
    },
    {
      "cell_type": "code",
      "metadata": {
        "colab": {
          "base_uri": "https://localhost:8080/"
        },
        "id": "kK3HT9i9REXt",
        "outputId": "bc3d642d-daee-4e8c-a9a2-2b2a0f2d3d37"
      },
      "source": [
        "# checking for missing values\n",
        "ratings.isnull().sum()"
      ],
      "execution_count": 53,
      "outputs": [
        {
          "output_type": "execute_result",
          "data": {
            "text/plain": [
              "user_id    0\n",
              "ISBN       0\n",
              "rating     0\n",
              "dtype: int64"
            ]
          },
          "metadata": {
            "tags": []
          },
          "execution_count": 53
        }
      ]
    },
    {
      "cell_type": "markdown",
      "metadata": {
        "id": "Qk2F9N49SA_k"
      },
      "source": [
        "In ratings dataset we don't have any missing value."
      ]
    },
    {
      "cell_type": "markdown",
      "metadata": {
        "id": "GAjOpkVS_TZ7"
      },
      "source": [
        "Now, We'll only take the **ISBNs** that also belongs to the main **books** set."
      ]
    },
    {
      "cell_type": "code",
      "metadata": {
        "id": "3u-LsE1N_goB"
      },
      "source": [
        "unique_ratings = ratings[ratings.ISBN.isin(books.ISBN)]"
      ],
      "execution_count": 111,
      "outputs": []
    },
    {
      "cell_type": "markdown",
      "metadata": {
        "id": "LFBrAtU2qmag"
      },
      "source": [
        "Ratings dataset should have ratings from users which exist in users dataset, unless new users or book are added to users dataset"
      ]
    },
    {
      "cell_type": "code",
      "metadata": {
        "id": "D2fkPfb5qm6v"
      },
      "source": [
        "# # Creating dataframe which contains books that are only in books dataset\n",
        "ratings = ratings[ratings.user_id.isin(users.user_id)]"
      ],
      "execution_count": 112,
      "outputs": []
    },
    {
      "cell_type": "code",
      "metadata": {
        "colab": {
          "base_uri": "https://localhost:8080/"
        },
        "id": "0Ql1WCN7rQeS",
        "outputId": "1deafcf4-6798-4bba-e2d7-0526765d411f"
      },
      "source": [
        "# Printing shapes\n",
        "print(ratings.shape)\n",
        "print(unique_ratings.shape)\n",
        "print(books.shape)\n",
        "print(users.shape)"
      ],
      "execution_count": 113,
      "outputs": [
        {
          "output_type": "stream",
          "text": [
            "(1149780, 3)\n",
            "(1031135, 3)\n",
            "(271359, 5)\n",
            "(278858, 3)\n"
          ],
          "name": "stdout"
        }
      ]
    },
    {
      "cell_type": "markdown",
      "metadata": {
        "id": "LJLwg5k-r-Lw"
      },
      "source": [
        "It can be seen that many rows having book ISBN not part of books dataset got dropped off."
      ]
    },
    {
      "cell_type": "markdown",
      "metadata": {
        "id": "sMVcWgDFSRVL"
      },
      "source": [
        "# **Visualization**\n",
        "\n",
        "Let's now make some pretty plots to visualize our data"
      ]
    },
    {
      "cell_type": "markdown",
      "metadata": {
        "id": "Zl1itIVIBM0i"
      },
      "source": [
        "The age distribution of the Users"
      ]
    },
    {
      "cell_type": "code",
      "metadata": {
        "colab": {
          "base_uri": "https://localhost:8080/",
          "height": 527
        },
        "id": "uLf3xs60RUhB",
        "outputId": "0a0d9b02-f44b-426b-b633-72091e25fc0d"
      },
      "source": [
        "#Plot histogram to see the distribution of the data\n",
        "fig = plt.figure(figsize = (12,8))\n",
        "users.age.hist(bins=[0, 10, 20, 30, 40, 50, 60, 70, 80, 90, 100])\n",
        "plt.title('Age Distribution\\n')\n",
        "plt.xlabel('age')\n",
        "plt.ylabel('count')\n",
        "plt.show()"
      ],
      "execution_count": 117,
      "outputs": [
        {
          "output_type": "display_data",
          "data": {
            "image/png": "[encoded data removed]",
            "text/plain": [
              "<Figure size 864x576 with 1 Axes>"
            ]
          },
          "metadata": {
            "tags": [],
            "needs_background": "light"
          }
        }
      ]
    },
    {
      "cell_type": "code",
      "metadata": {
        "colab": {
          "base_uri": "https://localhost:8080/",
          "height": 721
        },
        "id": "d-YFztvmm6mF",
        "outputId": "6a907a2e-247d-4408-9d1a-467d123958f5"
      },
      "source": [
        "#Plotting pie chart of age variable\n",
        "f,ax=plt.subplots(1,2,figsize=(20,10))\n",
        "users.age.value_counts().plot.pie(autopct='%1.1f%%',ax=ax[0],shadow=True)\n",
        "ax[0].set_title('Age of Users')\n",
        "ax[0].set_ylabel('')\n",
        "\n",
        "#Plotting countplot of age variable\n",
        "sns.countplot('age',data=users,ax=ax[1])\n",
        "ax[1].set_title('Age of Users')\n",
        "plt.show()"
      ],
      "execution_count": 126,
      "outputs": [
        {
          "output_type": "stream",
          "text": [
            "/usr/local/lib/python3.7/dist-packages/seaborn/_decorators.py:43: FutureWarning:\n",
            "\n",
            "Pass the following variable as a keyword arg: x. From version 0.12, the only valid positional argument will be `data`, and passing other arguments without an explicit keyword will result in an error or misinterpretation.\n",
            "\n"
          ],
          "name": "stderr"
        },
        {
          "output_type": "display_data",
          "data": {
            "image/png": "[encoded data removed]",
            "text/plain": [
              "<Figure size 1440x720 with 2 Axes>"
            ]
          },
          "metadata": {
            "tags": []
          }
        }
      ]
    },
    {
      "cell_type": "markdown",
      "metadata": {
        "id": "JRBe5XJ6n0Re"
      },
      "source": [
        "From above plots we observed that 41.9% of age 34 group read more books compared to other age groups.\n",
        "\n",
        "Also the users with the age 60 and above do not read more books.  "
      ]
    },
    {
      "cell_type": "markdown",
      "metadata": {
        "id": "4_q5qv1sCCTN"
      },
      "source": [
        "Let's see which rating people tend to give more :"
      ]
    },
    {
      "cell_type": "code",
      "metadata": {
        "colab": {
          "base_uri": "https://localhost:8080/",
          "height": 497
        },
        "id": "AVtTpW6bBWOV",
        "outputId": "db0b9e03-cab7-46fd-911a-c96967737c60"
      },
      "source": [
        "# Plotting counplot of ratings\n",
        "fig = plt.figure(figsize = (12,8))\n",
        "sns.set_style('darkgrid')\n",
        "sns.countplot(data= unique_ratings , x='rating')\n",
        "plt.show()"
      ],
      "execution_count": 120,
      "outputs": [
        {
          "output_type": "display_data",
          "data": {
            "image/png": "[encoded data removed]",
            "text/plain": [
              "<Figure size 864x576 with 1 Axes>"
            ]
          },
          "metadata": {
            "tags": []
          }
        }
      ]
    },
    {
      "cell_type": "markdown",
      "metadata": {
        "id": "XGmINXmoCjyd"
      },
      "source": [
        "This countplot shows users have rated 0 the most, which can mean they haven't rated bokks at all. \n",
        "\n",
        "Now we have to separate the explicit ratings represented by 1–10 and implicit ratings represented by 0."
      ]
    },
    {
      "cell_type": "code",
      "metadata": {
        "id": "OZ9JtBXTCQn1"
      },
      "source": [
        "# Separating ratings\n",
        "ratings_explicit= unique_ratings[unique_ratings['rating'] != 0]\n",
        "ratings_implicit= unique_ratings[unique_ratings['rating'] == 0]"
      ],
      "execution_count": 121,
      "outputs": []
    },
    {
      "cell_type": "code",
      "metadata": {
        "colab": {
          "base_uri": "https://localhost:8080/",
          "height": 497
        },
        "id": "jfVWsHI_Dmsl",
        "outputId": "b02902f6-011e-4f54-ab72-7b6726aa6f1e"
      },
      "source": [
        "# Now plotting countplot of rating_explicit\n",
        "fig = plt.figure(figsize = (12,8))\n",
        "sns.set_style('darkgrid')\n",
        "sns.countplot(data= ratings_explicit , x='rating')\n",
        "plt.show()"
      ],
      "execution_count": 122,
      "outputs": [
        {
          "output_type": "display_data",
          "data": {
            "image/png": "[encoded data removed]",
            "text/plain": [
              "<Figure size 864x576 with 1 Axes>"
            ]
          },
          "metadata": {
            "tags": []
          }
        }
      ]
    },
    {
      "cell_type": "markdown",
      "metadata": {
        "id": "9xZwbcPhEDBI"
      },
      "source": [
        "Now, This countplot of rating indicates that higher ratings are more common amongst users and rating 8 has been rated highest number of times then 10 & 7."
      ]
    },
    {
      "cell_type": "markdown",
      "metadata": {
        "id": "It9HFmxyF7WI"
      },
      "source": [
        "\n",
        "As the problem of string 'year' values was solved in the preprocessing steps, so now there's no need to convert the data types.\n",
        "\n",
        "Plotted this interactive plot to see more accurately the 'year_of _publication'(year column) distribution."
      ]
    },
    {
      "cell_type": "code",
      "metadata": {
        "colab": {
          "base_uri": "https://localhost:8080/",
          "height": 507
        },
        "id": "RTXKAY8wE-J4",
        "outputId": "1afe2ae5-d4ae-41d6-bcab-1c8fa372e95b"
      },
      "source": [
        "# Plotting bar plot\n",
        "years = books.year.value_counts().sort_index()\n",
        "years = years.where(years>5) \n",
        "plt.figure(figsize=(10, 8))\n",
        "plt.rcParams.update({'font.size': 15}) \n",
        "plt.bar(years.index, years.values)\n",
        "plt.xlabel('Year of Publication')\n",
        "plt.ylabel('counts')\n",
        "plt.show()"
      ],
      "execution_count": 125,
      "outputs": [
        {
          "output_type": "display_data",
          "data": {
            "image/png": "[encoded data removed]",
            "text/plain": [
              "<Figure size 720x576 with 1 Axes>"
            ]
          },
          "metadata": {
            "tags": []
          }
        }
      ]
    },
    {
      "cell_type": "markdown",
      "metadata": {
        "id": "7Ori51yaFfw6"
      },
      "source": [
        "So we can observe that publication years are somewhat between **1950 - 2005** here."
      ]
    },
    {
      "cell_type": "code",
      "metadata": {
        "id": "whDRNw41EdPE"
      },
      "source": [
        ""
      ],
      "execution_count": null,
      "outputs": []
    }
  ]
}